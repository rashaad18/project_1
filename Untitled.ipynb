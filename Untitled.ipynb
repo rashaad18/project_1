{
 "cells": [
  {
   "cell_type": "code",
   "execution_count": 1,
   "metadata": {},
   "outputs": [],
   "source": [
    "# Dependencies and Setup\n",
    "import pandas as pd\n",
    "import csv\n",
    "import numpy as np\n",
    "import matplotlib.pyplot as plt"
   ]
  },
  {
   "cell_type": "code",
   "execution_count": 2,
   "metadata": {},
   "outputs": [
    {
     "data": {
      "text/html": [
       "<div>\n",
       "<style scoped>\n",
       "    .dataframe tbody tr th:only-of-type {\n",
       "        vertical-align: middle;\n",
       "    }\n",
       "\n",
       "    .dataframe tbody tr th {\n",
       "        vertical-align: top;\n",
       "    }\n",
       "\n",
       "    .dataframe thead th {\n",
       "        text-align: right;\n",
       "    }\n",
       "</style>\n",
       "<table border=\"1\" class=\"dataframe\">\n",
       "  <thead>\n",
       "    <tr style=\"text-align: right;\">\n",
       "      <th></th>\n",
       "      <th>cdc_report_dt</th>\n",
       "      <th>pos_spec_dt</th>\n",
       "      <th>onset_dt</th>\n",
       "      <th>current_status</th>\n",
       "      <th>sex</th>\n",
       "      <th>age_group</th>\n",
       "      <th>Race and ethnicity (combined)</th>\n",
       "      <th>hosp_yn</th>\n",
       "      <th>icu_yn</th>\n",
       "      <th>death_yn</th>\n",
       "      <th>medcond_yn</th>\n",
       "    </tr>\n",
       "  </thead>\n",
       "  <tbody>\n",
       "    <tr>\n",
       "      <th>4481057</th>\n",
       "      <td>2020/09/15</td>\n",
       "      <td>2020/09/15</td>\n",
       "      <td>NaN</td>\n",
       "      <td>Laboratory-confirmed case</td>\n",
       "      <td>Female</td>\n",
       "      <td>Unknown</td>\n",
       "      <td>White, Non-Hispanic</td>\n",
       "      <td>Missing</td>\n",
       "      <td>Missing</td>\n",
       "      <td>Missing</td>\n",
       "      <td>Missing</td>\n",
       "    </tr>\n",
       "    <tr>\n",
       "      <th>4481058</th>\n",
       "      <td>2020/09/15</td>\n",
       "      <td>2020/09/15</td>\n",
       "      <td>NaN</td>\n",
       "      <td>Laboratory-confirmed case</td>\n",
       "      <td>Male</td>\n",
       "      <td>Unknown</td>\n",
       "      <td>Unknown</td>\n",
       "      <td>Missing</td>\n",
       "      <td>Missing</td>\n",
       "      <td>Missing</td>\n",
       "      <td>Missing</td>\n",
       "    </tr>\n",
       "    <tr>\n",
       "      <th>4481059</th>\n",
       "      <td>2020/09/15</td>\n",
       "      <td>2020/09/15</td>\n",
       "      <td>NaN</td>\n",
       "      <td>Laboratory-confirmed case</td>\n",
       "      <td>Female</td>\n",
       "      <td>Unknown</td>\n",
       "      <td>Unknown</td>\n",
       "      <td>Missing</td>\n",
       "      <td>Missing</td>\n",
       "      <td>Missing</td>\n",
       "      <td>No</td>\n",
       "    </tr>\n",
       "    <tr>\n",
       "      <th>4481060</th>\n",
       "      <td>2020/09/15</td>\n",
       "      <td>2020/09/15</td>\n",
       "      <td>NaN</td>\n",
       "      <td>Probable Case</td>\n",
       "      <td>Missing</td>\n",
       "      <td>Unknown</td>\n",
       "      <td>White, Non-Hispanic</td>\n",
       "      <td>No</td>\n",
       "      <td>Unknown</td>\n",
       "      <td>No</td>\n",
       "      <td>Yes</td>\n",
       "    </tr>\n",
       "    <tr>\n",
       "      <th>4481061</th>\n",
       "      <td>2020/09/15</td>\n",
       "      <td>2020/09/17</td>\n",
       "      <td>2020/09/15</td>\n",
       "      <td>Laboratory-confirmed case</td>\n",
       "      <td>Female</td>\n",
       "      <td>Unknown</td>\n",
       "      <td>Unknown</td>\n",
       "      <td>No</td>\n",
       "      <td>Unknown</td>\n",
       "      <td>No</td>\n",
       "      <td>Unknown</td>\n",
       "    </tr>\n",
       "  </tbody>\n",
       "</table>\n",
       "</div>"
      ],
      "text/plain": [
       "        cdc_report_dt pos_spec_dt    onset_dt             current_status  \\\n",
       "4481057    2020/09/15  2020/09/15         NaN  Laboratory-confirmed case   \n",
       "4481058    2020/09/15  2020/09/15         NaN  Laboratory-confirmed case   \n",
       "4481059    2020/09/15  2020/09/15         NaN  Laboratory-confirmed case   \n",
       "4481060    2020/09/15  2020/09/15         NaN              Probable Case   \n",
       "4481061    2020/09/15  2020/09/17  2020/09/15  Laboratory-confirmed case   \n",
       "\n",
       "             sex age_group Race and ethnicity (combined)  hosp_yn   icu_yn  \\\n",
       "4481057   Female   Unknown           White, Non-Hispanic  Missing  Missing   \n",
       "4481058     Male   Unknown                       Unknown  Missing  Missing   \n",
       "4481059   Female   Unknown                       Unknown  Missing  Missing   \n",
       "4481060  Missing   Unknown           White, Non-Hispanic       No  Unknown   \n",
       "4481061   Female   Unknown                       Unknown       No  Unknown   \n",
       "\n",
       "        death_yn medcond_yn  \n",
       "4481057  Missing    Missing  \n",
       "4481058  Missing    Missing  \n",
       "4481059  Missing         No  \n",
       "4481060       No        Yes  \n",
       "4481061       No    Unknown  "
      ]
     },
     "execution_count": 2,
     "metadata": {},
     "output_type": "execute_result"
    }
   ],
   "source": [
    "# File to Load\n",
    "csv_path = \"Resources/COVID-19_Case_Surveillance_Public_Use_Data.csv\"\n",
    "# Read file and store into Pandas data frame\n",
    "file_df = pd.read_csv(csv_path, encoding=\"ISO-8859-1\",low_memory=False)\n",
    "file_df.head()\n",
    "file_df.tail()"
   ]
  },
  {
   "cell_type": "code",
   "execution_count": 3,
   "metadata": {},
   "outputs": [
    {
     "data": {
      "text/plain": [
       "Index(['cdc_report_dt', 'pos_spec_dt', 'onset_dt', 'current_status', 'sex',\n",
       "       'age_group', 'Race and ethnicity (combined)', 'hosp_yn', 'icu_yn',\n",
       "       'death_yn', 'medcond_yn'],\n",
       "      dtype='object')"
      ]
     },
     "execution_count": 3,
     "metadata": {},
     "output_type": "execute_result"
    }
   ],
   "source": [
    "# Read columns\n",
    "file_df.columns"
   ]
  },
  {
   "cell_type": "code",
   "execution_count": 4,
   "metadata": {},
   "outputs": [
    {
     "data": {
      "text/html": [
       "<div>\n",
       "<style scoped>\n",
       "    .dataframe tbody tr th:only-of-type {\n",
       "        vertical-align: middle;\n",
       "    }\n",
       "\n",
       "    .dataframe tbody tr th {\n",
       "        vertical-align: top;\n",
       "    }\n",
       "\n",
       "    .dataframe thead th {\n",
       "        text-align: right;\n",
       "    }\n",
       "</style>\n",
       "<table border=\"1\" class=\"dataframe\">\n",
       "  <thead>\n",
       "    <tr style=\"text-align: right;\">\n",
       "      <th></th>\n",
       "      <th>current_status</th>\n",
       "      <th>sex</th>\n",
       "      <th>age_group</th>\n",
       "      <th>Race and ethnicity (combined)</th>\n",
       "      <th>death_yn</th>\n",
       "    </tr>\n",
       "  </thead>\n",
       "  <tbody>\n",
       "    <tr>\n",
       "      <th>0</th>\n",
       "      <td>Laboratory-confirmed case</td>\n",
       "      <td>Female</td>\n",
       "      <td>0 - 9 Years</td>\n",
       "      <td>Multiple/Other, Non-Hispanic</td>\n",
       "      <td>No</td>\n",
       "    </tr>\n",
       "    <tr>\n",
       "      <th>1</th>\n",
       "      <td>Laboratory-confirmed case</td>\n",
       "      <td>Female</td>\n",
       "      <td>0 - 9 Years</td>\n",
       "      <td>Unknown</td>\n",
       "      <td>Unknown</td>\n",
       "    </tr>\n",
       "    <tr>\n",
       "      <th>2</th>\n",
       "      <td>Laboratory-confirmed case</td>\n",
       "      <td>Female</td>\n",
       "      <td>0 - 9 Years</td>\n",
       "      <td>Unknown</td>\n",
       "      <td>Missing</td>\n",
       "    </tr>\n",
       "    <tr>\n",
       "      <th>3</th>\n",
       "      <td>Laboratory-confirmed case</td>\n",
       "      <td>Female</td>\n",
       "      <td>0 - 9 Years</td>\n",
       "      <td>Unknown</td>\n",
       "      <td>Missing</td>\n",
       "    </tr>\n",
       "    <tr>\n",
       "      <th>4</th>\n",
       "      <td>Laboratory-confirmed case</td>\n",
       "      <td>Female</td>\n",
       "      <td>0 - 9 Years</td>\n",
       "      <td>Unknown</td>\n",
       "      <td>Missing</td>\n",
       "    </tr>\n",
       "  </tbody>\n",
       "</table>\n",
       "</div>"
      ],
      "text/plain": [
       "              current_status     sex    age_group  \\\n",
       "0  Laboratory-confirmed case  Female  0 - 9 Years   \n",
       "1  Laboratory-confirmed case  Female  0 - 9 Years   \n",
       "2  Laboratory-confirmed case  Female  0 - 9 Years   \n",
       "3  Laboratory-confirmed case  Female  0 - 9 Years   \n",
       "4  Laboratory-confirmed case  Female  0 - 9 Years   \n",
       "\n",
       "  Race and ethnicity (combined) death_yn  \n",
       "0  Multiple/Other, Non-Hispanic       No  \n",
       "1                       Unknown  Unknown  \n",
       "2                       Unknown  Missing  \n",
       "3                       Unknown  Missing  \n",
       "4                       Unknown  Missing  "
      ]
     },
     "execution_count": 4,
     "metadata": {},
     "output_type": "execute_result"
    }
   ],
   "source": [
    "# Choose columns for data frame\n",
    "organized_df = file_df[[\"current_status\",\"sex\",\"age_group\",\"Race and ethnicity (combined)\",\"death_yn\"]]\n",
    "organized_df.head()"
   ]
  },
  {
   "cell_type": "code",
   "execution_count": 5,
   "metadata": {},
   "outputs": [
    {
     "data": {
      "text/html": [
       "<div>\n",
       "<style scoped>\n",
       "    .dataframe tbody tr th:only-of-type {\n",
       "        vertical-align: middle;\n",
       "    }\n",
       "\n",
       "    .dataframe tbody tr th {\n",
       "        vertical-align: top;\n",
       "    }\n",
       "\n",
       "    .dataframe thead th {\n",
       "        text-align: right;\n",
       "    }\n",
       "</style>\n",
       "<table border=\"1\" class=\"dataframe\">\n",
       "  <thead>\n",
       "    <tr style=\"text-align: right;\">\n",
       "      <th></th>\n",
       "      <th>Status</th>\n",
       "      <th>Gender</th>\n",
       "      <th>Age Group</th>\n",
       "      <th>Race</th>\n",
       "      <th>Death</th>\n",
       "    </tr>\n",
       "  </thead>\n",
       "  <tbody>\n",
       "    <tr>\n",
       "      <th>0</th>\n",
       "      <td>Laboratory-confirmed case</td>\n",
       "      <td>Female</td>\n",
       "      <td>0 - 9 Years</td>\n",
       "      <td>Multiple/Other, Non-Hispanic</td>\n",
       "      <td>No</td>\n",
       "    </tr>\n",
       "    <tr>\n",
       "      <th>1</th>\n",
       "      <td>Laboratory-confirmed case</td>\n",
       "      <td>Female</td>\n",
       "      <td>0 - 9 Years</td>\n",
       "      <td>Unknown</td>\n",
       "      <td>Unknown</td>\n",
       "    </tr>\n",
       "    <tr>\n",
       "      <th>2</th>\n",
       "      <td>Laboratory-confirmed case</td>\n",
       "      <td>Female</td>\n",
       "      <td>0 - 9 Years</td>\n",
       "      <td>Unknown</td>\n",
       "      <td>Missing</td>\n",
       "    </tr>\n",
       "    <tr>\n",
       "      <th>3</th>\n",
       "      <td>Laboratory-confirmed case</td>\n",
       "      <td>Female</td>\n",
       "      <td>0 - 9 Years</td>\n",
       "      <td>Unknown</td>\n",
       "      <td>Missing</td>\n",
       "    </tr>\n",
       "    <tr>\n",
       "      <th>4</th>\n",
       "      <td>Laboratory-confirmed case</td>\n",
       "      <td>Female</td>\n",
       "      <td>0 - 9 Years</td>\n",
       "      <td>Unknown</td>\n",
       "      <td>Missing</td>\n",
       "    </tr>\n",
       "  </tbody>\n",
       "</table>\n",
       "</div>"
      ],
      "text/plain": [
       "                      Status  Gender    Age Group  \\\n",
       "0  Laboratory-confirmed case  Female  0 - 9 Years   \n",
       "1  Laboratory-confirmed case  Female  0 - 9 Years   \n",
       "2  Laboratory-confirmed case  Female  0 - 9 Years   \n",
       "3  Laboratory-confirmed case  Female  0 - 9 Years   \n",
       "4  Laboratory-confirmed case  Female  0 - 9 Years   \n",
       "\n",
       "                           Race    Death  \n",
       "0  Multiple/Other, Non-Hispanic       No  \n",
       "1                       Unknown  Unknown  \n",
       "2                       Unknown  Missing  \n",
       "3                       Unknown  Missing  \n",
       "4                       Unknown  Missing  "
      ]
     },
     "execution_count": 5,
     "metadata": {},
     "output_type": "execute_result"
    }
   ],
   "source": [
    "# Rename columns\n",
    "renamed_df = organized_df.rename(columns={\"current_status\":\"Status\", \"sex\":\"Gender\", \"age_group\":\"Age Group\", \"Race and ethnicity (combined)\":\"Race\", \"death_yn\":\"Death\"})\n",
    "renamed_df.head()"
   ]
  },
  {
   "cell_type": "code",
   "execution_count": 6,
   "metadata": {},
   "outputs": [
    {
     "data": {
      "text/plain": [
       "No         2075244\n",
       "Missing    1740002\n",
       "Unknown     529408\n",
       "Yes         136408\n",
       "Name: Death, dtype: int64"
      ]
     },
     "execution_count": 6,
     "metadata": {},
     "output_type": "execute_result"
    }
   ],
   "source": [
    "# Count how many 'No', 'Missing','Unknown','Yes' \n",
    "renamed_df['Death'].value_counts()"
   ]
  },
  {
   "cell_type": "code",
   "execution_count": 7,
   "metadata": {},
   "outputs": [
    {
     "data": {
      "text/plain": [
       "Laboratory-confirmed case    4322724\n",
       "Probable Case                 158338\n",
       "Name: Status, dtype: int64"
      ]
     },
     "execution_count": 7,
     "metadata": {},
     "output_type": "execute_result"
    }
   ],
   "source": [
    "renamed_df['Status'].value_counts()"
   ]
  },
  {
   "cell_type": "code",
   "execution_count": 8,
   "metadata": {},
   "outputs": [
    {
     "data": {
      "text/html": [
       "<div>\n",
       "<style scoped>\n",
       "    .dataframe tbody tr th:only-of-type {\n",
       "        vertical-align: middle;\n",
       "    }\n",
       "\n",
       "    .dataframe tbody tr th {\n",
       "        vertical-align: top;\n",
       "    }\n",
       "\n",
       "    .dataframe thead th {\n",
       "        text-align: right;\n",
       "    }\n",
       "</style>\n",
       "<table border=\"1\" class=\"dataframe\">\n",
       "  <thead>\n",
       "    <tr style=\"text-align: right;\">\n",
       "      <th></th>\n",
       "      <th>Status</th>\n",
       "      <th>Gender</th>\n",
       "      <th>Age Group</th>\n",
       "      <th>Race</th>\n",
       "      <th>Death</th>\n",
       "    </tr>\n",
       "  </thead>\n",
       "  <tbody>\n",
       "    <tr>\n",
       "      <th>0</th>\n",
       "      <td>Laboratory-confirmed case</td>\n",
       "      <td>Female</td>\n",
       "      <td>10 - 19 Years</td>\n",
       "      <td>Black, Non-Hispanic</td>\n",
       "      <td>Yes</td>\n",
       "    </tr>\n",
       "    <tr>\n",
       "      <th>1</th>\n",
       "      <td>Laboratory-confirmed case</td>\n",
       "      <td>Male</td>\n",
       "      <td>20 - 29 Years</td>\n",
       "      <td>Hispanic/Latino</td>\n",
       "      <td>Yes</td>\n",
       "    </tr>\n",
       "    <tr>\n",
       "      <th>2</th>\n",
       "      <td>Laboratory-confirmed case</td>\n",
       "      <td>Female</td>\n",
       "      <td>20 - 29 Years</td>\n",
       "      <td>Black, Non-Hispanic</td>\n",
       "      <td>Yes</td>\n",
       "    </tr>\n",
       "    <tr>\n",
       "      <th>3</th>\n",
       "      <td>Laboratory-confirmed case</td>\n",
       "      <td>Female</td>\n",
       "      <td>20 - 29 Years</td>\n",
       "      <td>Hispanic/Latino</td>\n",
       "      <td>Yes</td>\n",
       "    </tr>\n",
       "    <tr>\n",
       "      <th>4</th>\n",
       "      <td>Laboratory-confirmed case</td>\n",
       "      <td>Male</td>\n",
       "      <td>20 - 29 Years</td>\n",
       "      <td>Black, Non-Hispanic</td>\n",
       "      <td>Yes</td>\n",
       "    </tr>\n",
       "    <tr>\n",
       "      <th>...</th>\n",
       "      <td>...</td>\n",
       "      <td>...</td>\n",
       "      <td>...</td>\n",
       "      <td>...</td>\n",
       "      <td>...</td>\n",
       "    </tr>\n",
       "    <tr>\n",
       "      <th>136403</th>\n",
       "      <td>Laboratory-confirmed case</td>\n",
       "      <td>Female</td>\n",
       "      <td>Unknown</td>\n",
       "      <td>Unknown</td>\n",
       "      <td>Yes</td>\n",
       "    </tr>\n",
       "    <tr>\n",
       "      <th>136404</th>\n",
       "      <td>Probable Case</td>\n",
       "      <td>Female</td>\n",
       "      <td>Unknown</td>\n",
       "      <td>Unknown</td>\n",
       "      <td>Yes</td>\n",
       "    </tr>\n",
       "    <tr>\n",
       "      <th>136405</th>\n",
       "      <td>Probable Case</td>\n",
       "      <td>Male</td>\n",
       "      <td>Unknown</td>\n",
       "      <td>White, Non-Hispanic</td>\n",
       "      <td>Yes</td>\n",
       "    </tr>\n",
       "    <tr>\n",
       "      <th>136406</th>\n",
       "      <td>Laboratory-confirmed case</td>\n",
       "      <td>Male</td>\n",
       "      <td>Unknown</td>\n",
       "      <td>Unknown</td>\n",
       "      <td>Yes</td>\n",
       "    </tr>\n",
       "    <tr>\n",
       "      <th>136407</th>\n",
       "      <td>Laboratory-confirmed case</td>\n",
       "      <td>Female</td>\n",
       "      <td>Unknown</td>\n",
       "      <td>Unknown</td>\n",
       "      <td>Yes</td>\n",
       "    </tr>\n",
       "  </tbody>\n",
       "</table>\n",
       "<p>136408 rows × 5 columns</p>\n",
       "</div>"
      ],
      "text/plain": [
       "                           Status  Gender      Age Group                 Race  \\\n",
       "0       Laboratory-confirmed case  Female  10 - 19 Years  Black, Non-Hispanic   \n",
       "1       Laboratory-confirmed case    Male  20 - 29 Years      Hispanic/Latino   \n",
       "2       Laboratory-confirmed case  Female  20 - 29 Years  Black, Non-Hispanic   \n",
       "3       Laboratory-confirmed case  Female  20 - 29 Years      Hispanic/Latino   \n",
       "4       Laboratory-confirmed case    Male  20 - 29 Years  Black, Non-Hispanic   \n",
       "...                           ...     ...            ...                  ...   \n",
       "136403  Laboratory-confirmed case  Female        Unknown              Unknown   \n",
       "136404              Probable Case  Female        Unknown              Unknown   \n",
       "136405              Probable Case    Male        Unknown  White, Non-Hispanic   \n",
       "136406  Laboratory-confirmed case    Male        Unknown              Unknown   \n",
       "136407  Laboratory-confirmed case  Female        Unknown              Unknown   \n",
       "\n",
       "       Death  \n",
       "0        Yes  \n",
       "1        Yes  \n",
       "2        Yes  \n",
       "3        Yes  \n",
       "4        Yes  \n",
       "...      ...  \n",
       "136403   Yes  \n",
       "136404   Yes  \n",
       "136405   Yes  \n",
       "136406   Yes  \n",
       "136407   Yes  \n",
       "\n",
       "[136408 rows x 5 columns]"
      ]
     },
     "execution_count": 8,
     "metadata": {},
     "output_type": "execute_result"
    }
   ],
   "source": [
    "# Cleaner data frame base on Death\n",
    "death_df=renamed_df[renamed_df['Death'].str.contains(\"Yes\")]\n",
    "death_df\n",
    "death_df.reset_index(drop=True)"
   ]
  },
  {
   "cell_type": "code",
   "execution_count": 9,
   "metadata": {},
   "outputs": [
    {
     "data": {
      "text/plain": [
       "136408"
      ]
     },
     "execution_count": 9,
     "metadata": {},
     "output_type": "execute_result"
    }
   ],
   "source": [
    "total_death_count=len(death_df)\n",
    "total_death_count"
   ]
  },
  {
   "cell_type": "code",
   "execution_count": 10,
   "metadata": {},
   "outputs": [
    {
     "data": {
      "text/html": [
       "<style  type=\"text/css\" >\n",
       "</style><table id=\"T_110a77a1_15ad_11eb_86a9_347df68eaa84\" ><thead>    <tr>        <th class=\"blank level0\" ></th>        <th class=\"col_heading level0 col0\" >Total Death Count</th>        <th class=\"col_heading level0 col1\" >Percentage of Gender Death</th>    </tr>    <tr>        <th class=\"index_name level0\" >Gender</th>        <th class=\"blank\" ></th>        <th class=\"blank\" ></th>    </tr></thead><tbody>\n",
       "                <tr>\n",
       "                        <th id=\"T_110a77a1_15ad_11eb_86a9_347df68eaa84level0_row0\" class=\"row_heading level0 row0\" >Female</th>\n",
       "                        <td id=\"T_110a77a1_15ad_11eb_86a9_347df68eaa84row0_col0\" class=\"data row0 col0\" >62883</td>\n",
       "                        <td id=\"T_110a77a1_15ad_11eb_86a9_347df68eaa84row0_col1\" class=\"data row0 col1\" >46.10%</td>\n",
       "            </tr>\n",
       "            <tr>\n",
       "                        <th id=\"T_110a77a1_15ad_11eb_86a9_347df68eaa84level0_row1\" class=\"row_heading level0 row1\" >Male</th>\n",
       "                        <td id=\"T_110a77a1_15ad_11eb_86a9_347df68eaa84row1_col0\" class=\"data row1 col0\" >73248</td>\n",
       "                        <td id=\"T_110a77a1_15ad_11eb_86a9_347df68eaa84row1_col1\" class=\"data row1 col1\" >53.70%</td>\n",
       "            </tr>\n",
       "            <tr>\n",
       "                        <th id=\"T_110a77a1_15ad_11eb_86a9_347df68eaa84level0_row2\" class=\"row_heading level0 row2\" >Missing</th>\n",
       "                        <td id=\"T_110a77a1_15ad_11eb_86a9_347df68eaa84row2_col0\" class=\"data row2 col0\" >73</td>\n",
       "                        <td id=\"T_110a77a1_15ad_11eb_86a9_347df68eaa84row2_col1\" class=\"data row2 col1\" >0.05%</td>\n",
       "            </tr>\n",
       "            <tr>\n",
       "                        <th id=\"T_110a77a1_15ad_11eb_86a9_347df68eaa84level0_row3\" class=\"row_heading level0 row3\" >Other</th>\n",
       "                        <td id=\"T_110a77a1_15ad_11eb_86a9_347df68eaa84row3_col0\" class=\"data row3 col0\" >2</td>\n",
       "                        <td id=\"T_110a77a1_15ad_11eb_86a9_347df68eaa84row3_col1\" class=\"data row3 col1\" >0.00%</td>\n",
       "            </tr>\n",
       "            <tr>\n",
       "                        <th id=\"T_110a77a1_15ad_11eb_86a9_347df68eaa84level0_row4\" class=\"row_heading level0 row4\" >Unknown</th>\n",
       "                        <td id=\"T_110a77a1_15ad_11eb_86a9_347df68eaa84row4_col0\" class=\"data row4 col0\" >202</td>\n",
       "                        <td id=\"T_110a77a1_15ad_11eb_86a9_347df68eaa84row4_col1\" class=\"data row4 col1\" >0.15%</td>\n",
       "            </tr>\n",
       "    </tbody></table>"
      ],
      "text/plain": [
       "<pandas.io.formats.style.Styler at 0x1fd0c038e20>"
      ]
     },
     "execution_count": 10,
     "metadata": {},
     "output_type": "execute_result"
    }
   ],
   "source": [
    "# Gender death count\n",
    "gender_count_df=death_df.groupby(\"Gender\")[\"Death\"].count()\n",
    "gender_count_df.count()\n",
    "# Gender death percentage\n",
    "gender_death_percentage_df=gender_count_df/total_death_count*100\n",
    "gender_death_percentage_df\n",
    "# Creat data frame\n",
    "gender_df = pd.DataFrame({\"Total Death Count\":gender_count_df, \"Percentage of Gender Death\":gender_death_percentage_df })\n",
    "gender_df\n",
    "gender_df.style.format({'Percentage of Gender Death':\"{:,.2f}%\"})"
   ]
  },
  {
   "cell_type": "code",
   "execution_count": 11,
   "metadata": {},
   "outputs": [
    {
     "data": {
      "text/plain": [
       "([<matplotlib.patches.Wedge at 0x1fd19dc93d0>,\n",
       "  <matplotlib.patches.Wedge at 0x1fd19dc9ac0>,\n",
       "  <matplotlib.patches.Wedge at 0x1fd1a46c3d0>,\n",
       "  <matplotlib.patches.Wedge at 0x1fd1a46cca0>,\n",
       "  <matplotlib.patches.Wedge at 0x1fd1a4745b0>],\n",
       " [Text(-0.8779306021715498, -0.8180695922540454, 'Female'),\n",
       "  Text(0.8095373782112943, 0.7447477648699484, 'Male'),\n",
       "  Text(-0.8727082890106902, 0.7489193830393456, 'Missing'),\n",
       "  Text(-1.4440010000955912, 1.2348526680227616, 'Other'),\n",
       "  Text(-1.144568481144864, 0.969516885861066, 'Unknown')],\n",
       " [Text(-0.5121261846000706, -0.4772072621481931, '46.1%'),\n",
       "  Text(0.441565842660706, 0.40622605356542635, '53.7%'),\n",
       "  Text(-0.49326990248430314, 0.4233022599787605, '0.1%'),\n",
       "  Text(-1.0640007369125408, 0.9098914395957189, '0.0%'),\n",
       "  Text(-0.763045654096576, 0.6463445905740439, '0.1%')])"
      ]
     },
     "execution_count": 11,
     "metadata": {},
     "output_type": "execute_result"
    },
    {
     "data": {
      "image/png": "[encoded data removed]",
      "text/plain": [
       "<Figure size 432x288 with 1 Axes>"
      ]
     },
     "metadata": {},
     "output_type": "display_data"
    }
   ],
   "source": [
    "labels=[\"Female\",\"Male\",\"Missing\",\"Other\",\"Unknown\"]\n",
    "colors = [\"red\",\"green\",\"purple\",\"orange\",\"blue\"]\n",
    "explode = (0.1,0,0.05,0.8,0.4)\n",
    "plt.pie(gender_death_percentage_df, explode=explode, labels=labels, colors=colors,\n",
    "        autopct=\"%1.1f%%\", shadow=True, startangle=140)"
   ]
  },
  {
   "cell_type": "code",
   "execution_count": 12,
   "metadata": {},
   "outputs": [
    {
     "data": {
      "text/html": [
       "<style  type=\"text/css\" >\n",
       "</style><table id=\"T_112c7d69_15ad_11eb_b2b4_347df68eaa84\" ><thead>    <tr>        <th class=\"blank level0\" ></th>        <th class=\"col_heading level0 col0\" >Total Age Group Count</th>        <th class=\"col_heading level0 col1\" >Percentage of Age Group Death</th>    </tr>    <tr>        <th class=\"index_name level0\" >Age Group</th>        <th class=\"blank\" ></th>        <th class=\"blank\" ></th>    </tr></thead><tbody>\n",
       "                <tr>\n",
       "                        <th id=\"T_112c7d69_15ad_11eb_b2b4_347df68eaa84level0_row0\" class=\"row_heading level0 row0\" >0 - 9 Years</th>\n",
       "                        <td id=\"T_112c7d69_15ad_11eb_b2b4_347df68eaa84row0_col0\" class=\"data row0 col0\" >49</td>\n",
       "                        <td id=\"T_112c7d69_15ad_11eb_b2b4_347df68eaa84row0_col1\" class=\"data row0 col1\" >0.04%</td>\n",
       "            </tr>\n",
       "            <tr>\n",
       "                        <th id=\"T_112c7d69_15ad_11eb_b2b4_347df68eaa84level0_row1\" class=\"row_heading level0 row1\" >10 - 19 Years</th>\n",
       "                        <td id=\"T_112c7d69_15ad_11eb_b2b4_347df68eaa84row1_col0\" class=\"data row1 col0\" >83</td>\n",
       "                        <td id=\"T_112c7d69_15ad_11eb_b2b4_347df68eaa84row1_col1\" class=\"data row1 col1\" >0.06%</td>\n",
       "            </tr>\n",
       "            <tr>\n",
       "                        <th id=\"T_112c7d69_15ad_11eb_b2b4_347df68eaa84level0_row2\" class=\"row_heading level0 row2\" >20 - 29 Years</th>\n",
       "                        <td id=\"T_112c7d69_15ad_11eb_b2b4_347df68eaa84row2_col0\" class=\"data row2 col0\" >637</td>\n",
       "                        <td id=\"T_112c7d69_15ad_11eb_b2b4_347df68eaa84row2_col1\" class=\"data row2 col1\" >0.47%</td>\n",
       "            </tr>\n",
       "            <tr>\n",
       "                        <th id=\"T_112c7d69_15ad_11eb_b2b4_347df68eaa84level0_row3\" class=\"row_heading level0 row3\" >30 - 39 Years</th>\n",
       "                        <td id=\"T_112c7d69_15ad_11eb_b2b4_347df68eaa84row3_col0\" class=\"data row3 col0\" >1770</td>\n",
       "                        <td id=\"T_112c7d69_15ad_11eb_b2b4_347df68eaa84row3_col1\" class=\"data row3 col1\" >1.30%</td>\n",
       "            </tr>\n",
       "            <tr>\n",
       "                        <th id=\"T_112c7d69_15ad_11eb_b2b4_347df68eaa84level0_row4\" class=\"row_heading level0 row4\" >40 - 49 Years</th>\n",
       "                        <td id=\"T_112c7d69_15ad_11eb_b2b4_347df68eaa84row4_col0\" class=\"data row4 col0\" >4263</td>\n",
       "                        <td id=\"T_112c7d69_15ad_11eb_b2b4_347df68eaa84row4_col1\" class=\"data row4 col1\" >3.13%</td>\n",
       "            </tr>\n",
       "            <tr>\n",
       "                        <th id=\"T_112c7d69_15ad_11eb_b2b4_347df68eaa84level0_row5\" class=\"row_heading level0 row5\" >50 - 59 Years</th>\n",
       "                        <td id=\"T_112c7d69_15ad_11eb_b2b4_347df68eaa84row5_col0\" class=\"data row5 col0\" >11000</td>\n",
       "                        <td id=\"T_112c7d69_15ad_11eb_b2b4_347df68eaa84row5_col1\" class=\"data row5 col1\" >8.06%</td>\n",
       "            </tr>\n",
       "            <tr>\n",
       "                        <th id=\"T_112c7d69_15ad_11eb_b2b4_347df68eaa84level0_row6\" class=\"row_heading level0 row6\" >60 - 69 Years</th>\n",
       "                        <td id=\"T_112c7d69_15ad_11eb_b2b4_347df68eaa84row6_col0\" class=\"data row6 col0\" >22900</td>\n",
       "                        <td id=\"T_112c7d69_15ad_11eb_b2b4_347df68eaa84row6_col1\" class=\"data row6 col1\" >16.79%</td>\n",
       "            </tr>\n",
       "            <tr>\n",
       "                        <th id=\"T_112c7d69_15ad_11eb_b2b4_347df68eaa84level0_row7\" class=\"row_heading level0 row7\" >70 - 79 Years</th>\n",
       "                        <td id=\"T_112c7d69_15ad_11eb_b2b4_347df68eaa84row7_col0\" class=\"data row7 col0\" >33526</td>\n",
       "                        <td id=\"T_112c7d69_15ad_11eb_b2b4_347df68eaa84row7_col1\" class=\"data row7 col1\" >24.58%</td>\n",
       "            </tr>\n",
       "            <tr>\n",
       "                        <th id=\"T_112c7d69_15ad_11eb_b2b4_347df68eaa84level0_row8\" class=\"row_heading level0 row8\" >80+ Years</th>\n",
       "                        <td id=\"T_112c7d69_15ad_11eb_b2b4_347df68eaa84row8_col0\" class=\"data row8 col0\" >62164</td>\n",
       "                        <td id=\"T_112c7d69_15ad_11eb_b2b4_347df68eaa84row8_col1\" class=\"data row8 col1\" >45.57%</td>\n",
       "            </tr>\n",
       "            <tr>\n",
       "                        <th id=\"T_112c7d69_15ad_11eb_b2b4_347df68eaa84level0_row9\" class=\"row_heading level0 row9\" >Unknown</th>\n",
       "                        <td id=\"T_112c7d69_15ad_11eb_b2b4_347df68eaa84row9_col0\" class=\"data row9 col0\" >8</td>\n",
       "                        <td id=\"T_112c7d69_15ad_11eb_b2b4_347df68eaa84row9_col1\" class=\"data row9 col1\" >0.01%</td>\n",
       "            </tr>\n",
       "    </tbody></table>"
      ],
      "text/plain": [
       "<pandas.io.formats.style.Styler at 0x1fd0c01ca90>"
      ]
     },
     "execution_count": 12,
     "metadata": {},
     "output_type": "execute_result"
    }
   ],
   "source": [
    "# Age group death count\n",
    "age_group_count_df=death_df.groupby(\"Age Group\")[\"Death\"].count()\n",
    "age_group_count_df\n",
    "# Age group death percentage\n",
    "age_group_death_percentage_df=age_group_count_df/total_death_count*100\n",
    "age_group_death_percentage_df\n",
    "#Creat data frame\n",
    "age_df=pd.DataFrame({\"Total Age Group Count\":age_group_count_df, \"Percentage of Age Group Death\":age_group_death_percentage_df })\n",
    "age_df\n",
    "age_df.style.format({'Percentage of Age Group Death':\"{:,.2f}%\"})"
   ]
  },
  {
   "cell_type": "code",
   "execution_count": 13,
   "metadata": {},
   "outputs": [
    {
     "data": {
      "text/plain": [
       "([0, 1, 2, 3, 4, 5, 6, 7, 8, 9], <a list of 10 Text major ticklabel objects>)"
      ]
     },
     "execution_count": 13,
     "metadata": {},
     "output_type": "execute_result"
    },
    {
     "data": {
      "image/png": "[encoded data removed]",
      "text/plain": [
       "<Figure size 432x288 with 1 Axes>"
      ]
     },
     "metadata": {
      "needs_background": "light"
     },
     "output_type": "display_data"
    }
   ],
   "source": [
    "age_group=['0 - 9 Years',\n",
    "           '10 - 19 Years',\n",
    "           '20 - 29 Years',\n",
    "           '30 - 39 Years',\n",
    "           '40 - 49 Years',\n",
    "           '50 - 59 Years',\n",
    "           '60 - 69 Years',\n",
    "           '70 - 79 Years',\n",
    "           '80+ Years',\n",
    "           'Unknown']\n",
    "plt.bar(age_group, age_group_death_percentage_df,)\n",
    "plt.xlabel(\"Total Age Group Count\")\n",
    "plt.ylabel(\"Percentage of Age Group Death\")\n",
    "plt.xticks(rotation='vertical')"
   ]
  },
  {
   "cell_type": "code",
   "execution_count": 14,
   "metadata": {},
   "outputs": [
    {
     "data": {
      "text/html": [
       "<style  type=\"text/css\" >\n",
       "</style><table id=\"T_11637875_15ad_11eb_ab29_347df68eaa84\" ><thead>    <tr>        <th class=\"blank level0\" ></th>        <th class=\"col_heading level0 col0\" >Total Race Group Count</th>        <th class=\"col_heading level0 col1\" >Percentage of Race Group Death</th>    </tr>    <tr>        <th class=\"index_name level0\" >Race</th>        <th class=\"blank\" ></th>        <th class=\"blank\" ></th>    </tr></thead><tbody>\n",
       "                <tr>\n",
       "                        <th id=\"T_11637875_15ad_11eb_ab29_347df68eaa84level0_row0\" class=\"row_heading level0 row0\" >Native Hawaiian/Other Pacific Islander, Non-Hispanic</th>\n",
       "                        <td id=\"T_11637875_15ad_11eb_ab29_347df68eaa84row0_col0\" class=\"data row0 col0\" >222</td>\n",
       "                        <td id=\"T_11637875_15ad_11eb_ab29_347df68eaa84row0_col1\" class=\"data row0 col1\" >0.16%</td>\n",
       "            </tr>\n",
       "            <tr>\n",
       "                        <th id=\"T_11637875_15ad_11eb_ab29_347df68eaa84level0_row1\" class=\"row_heading level0 row1\" >American Indian/Alaska Native, Non-Hispanic</th>\n",
       "                        <td id=\"T_11637875_15ad_11eb_ab29_347df68eaa84row1_col0\" class=\"data row1 col0\" >953</td>\n",
       "                        <td id=\"T_11637875_15ad_11eb_ab29_347df68eaa84row1_col1\" class=\"data row1 col1\" >0.70%</td>\n",
       "            </tr>\n",
       "            <tr>\n",
       "                        <th id=\"T_11637875_15ad_11eb_ab29_347df68eaa84level0_row2\" class=\"row_heading level0 row2\" >Multiple/Other, Non-Hispanic</th>\n",
       "                        <td id=\"T_11637875_15ad_11eb_ab29_347df68eaa84row2_col0\" class=\"data row2 col0\" >4849</td>\n",
       "                        <td id=\"T_11637875_15ad_11eb_ab29_347df68eaa84row2_col1\" class=\"data row2 col1\" >3.55%</td>\n",
       "            </tr>\n",
       "            <tr>\n",
       "                        <th id=\"T_11637875_15ad_11eb_ab29_347df68eaa84level0_row3\" class=\"row_heading level0 row3\" >Asian, Non-Hispanic</th>\n",
       "                        <td id=\"T_11637875_15ad_11eb_ab29_347df68eaa84row3_col0\" class=\"data row3 col0\" >5111</td>\n",
       "                        <td id=\"T_11637875_15ad_11eb_ab29_347df68eaa84row3_col1\" class=\"data row3 col1\" >3.75%</td>\n",
       "            </tr>\n",
       "            <tr>\n",
       "                        <th id=\"T_11637875_15ad_11eb_ab29_347df68eaa84level0_row4\" class=\"row_heading level0 row4\" >Unknown</th>\n",
       "                        <td id=\"T_11637875_15ad_11eb_ab29_347df68eaa84row4_col0\" class=\"data row4 col0\" >19493</td>\n",
       "                        <td id=\"T_11637875_15ad_11eb_ab29_347df68eaa84row4_col1\" class=\"data row4 col1\" >14.29%</td>\n",
       "            </tr>\n",
       "            <tr>\n",
       "                        <th id=\"T_11637875_15ad_11eb_ab29_347df68eaa84level0_row5\" class=\"row_heading level0 row5\" >Hispanic/Latino</th>\n",
       "                        <td id=\"T_11637875_15ad_11eb_ab29_347df68eaa84row5_col0\" class=\"data row5 col0\" >19662</td>\n",
       "                        <td id=\"T_11637875_15ad_11eb_ab29_347df68eaa84row5_col1\" class=\"data row5 col1\" >14.41%</td>\n",
       "            </tr>\n",
       "            <tr>\n",
       "                        <th id=\"T_11637875_15ad_11eb_ab29_347df68eaa84level0_row6\" class=\"row_heading level0 row6\" >Black, Non-Hispanic</th>\n",
       "                        <td id=\"T_11637875_15ad_11eb_ab29_347df68eaa84row6_col0\" class=\"data row6 col0\" >24785</td>\n",
       "                        <td id=\"T_11637875_15ad_11eb_ab29_347df68eaa84row6_col1\" class=\"data row6 col1\" >18.17%</td>\n",
       "            </tr>\n",
       "            <tr>\n",
       "                        <th id=\"T_11637875_15ad_11eb_ab29_347df68eaa84level0_row7\" class=\"row_heading level0 row7\" >White, Non-Hispanic</th>\n",
       "                        <td id=\"T_11637875_15ad_11eb_ab29_347df68eaa84row7_col0\" class=\"data row7 col0\" >61333</td>\n",
       "                        <td id=\"T_11637875_15ad_11eb_ab29_347df68eaa84row7_col1\" class=\"data row7 col1\" >44.96%</td>\n",
       "            </tr>\n",
       "    </tbody></table>"
      ],
      "text/plain": [
       "<pandas.io.formats.style.Styler at 0x1fd1a515dc0>"
      ]
     },
     "execution_count": 14,
     "metadata": {},
     "output_type": "execute_result"
    }
   ],
   "source": [
    "#Race death count\n",
    "race_count_df=death_df.groupby(\"Race\")[\"Death\"].count()\n",
    "race_count_df\n",
    "#Race group death percentage\n",
    "race_group_death_percentage_df=race_count_df/total_death_count*100\n",
    "race_group_death_percentage_df\n",
    "#Creat data frame\n",
    "race_df=pd.DataFrame({\"Total Race Group Count\":race_count_df, \"Percentage of Race Group Death\":race_group_death_percentage_df})\n",
    "sort_df = race_df.sort_values([\"Total Race Group Count\", \"Percentage of Race Group Death\"], ascending=True)\n",
    "sort_df\n",
    "sort_df.style.format({'Percentage of Race Group Death':\"{:,.2f}%\"})"
   ]
  },
  {
   "cell_type": "code",
   "execution_count": 15,
   "metadata": {},
   "outputs": [
    {
     "data": {
      "text/plain": [
       "([0, 1, 2, 3, 4, 5, 6, 7], <a list of 8 Text major ticklabel objects>)"
      ]
     },
     "execution_count": 15,
     "metadata": {},
     "output_type": "execute_result"
    },
    {
     "data": {
      "image/png": "[encoded data removed]",
      "text/plain": [
       "<Figure size 432x288 with 1 Axes>"
      ]
     },
     "metadata": {
      "needs_background": "light"
     },
     "output_type": "display_data"
    }
   ],
   "source": [
    "race_group=['Native Hawaiian/Other Pacific Islander',\n",
    "            'American Indian/Alaska Native', \n",
    "            'Multiple/Other',\n",
    "            'Asian',\n",
    "            'Unknown',\n",
    "            'Hispanic/Latino',\n",
    "            'Black',\n",
    "            'White']\n",
    "plt.bar(race_group,race_group_death_percentage_df,color='r', alpha=0.5, align=\"center\")\n",
    "plt.xlabel(\"Total Race Group Count\")\n",
    "plt.ylabel(\"Percentage of Race Group Death\")\n",
    "plt.xticks(rotation='vertical')"
   ]
  },
  {
   "cell_type": "code",
   "execution_count": null,
   "metadata": {},
   "outputs": [],
   "source": []
  }
 ],
 "metadata": {
  "kernelspec": {
   "display_name": "Python [conda env:root] *",
   "language": "python",
   "name": "conda-root-py"
  },
  "language_info": {
   "codemirror_mode": {
    "name": "ipython",
    "version": 3
   },
   "file_extension": ".py",
   "mimetype": "text/x-python",
   "name": "python",
   "nbconvert_exporter": "python",
   "pygments_lexer": "ipython3",
   "version": "3.8.3"
  }
 },
 "nbformat": 4,
 "nbformat_minor": 4
}
